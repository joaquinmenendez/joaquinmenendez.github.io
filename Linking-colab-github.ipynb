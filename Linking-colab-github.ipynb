{
  "nbformat": 4,
  "nbformat_minor": 0,
  "metadata": {
    "colab": {
      "name": "Untitled1.ipynb",
      "provenance": [],
      "authorship_tag": "ABX9TyMYa9Q6lBJNhZi2fYn0f1hP",
      "include_colab_link": true
    },
    "kernelspec": {
      "name": "python3",
      "display_name": "Python 3"
    }
  },
  "cells": [
    {
      "cell_type": "markdown",
      "metadata": {
        "id": "view-in-github",
        "colab_type": "text"
      },
      "source": [
        "<a href=\"https://colab.research.google.com/github/joaquinmenendez/joaquinmenendez.github.io/blob/master/Linking-colab-github.ipynb\" target=\"_parent\"><img src=\"https://colab.research.google.com/assets/colab-badge.svg\" alt=\"Open In Colab\"/></a>"
      ]
    },
    {
      "cell_type": "markdown",
      "metadata": {
        "id": "o9S43jFfyC_g",
        "colab_type": "text"
      },
      "source": [
        "# Adding images from 'Issue' \n",
        "![image1](https://user-images.githubusercontent.com/43391630/72379678-e4a85500-36e1-11ea-8ddd-f6cee11c165f.png)"
      ]
    },
    {
      "cell_type": "code",
      "metadata": {
        "id": "PUEI4oByyQHm",
        "colab_type": "code",
        "colab": {}
      },
      "source": [
        ""
      ],
      "execution_count": 0,
      "outputs": []
    }
  ]
}